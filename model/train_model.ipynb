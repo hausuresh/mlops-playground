{
 "cells": [
  {
   "cell_type": "markdown",
   "metadata": {},
   "source": [
    "# Write something here!"
   ]
  },
  {
   "cell_type": "code",
   "execution_count": 11,
   "metadata": {},
   "outputs": [],
   "source": [
    "import os\n",
    "import warnings\n",
    "import sys\n",
    "\n",
    "import pandas as pd\n",
    "import numpy as np\n",
    "from sklearn.metrics import mean_squared_error, mean_absolute_error, r2_score\n",
    "from sklearn.model_selection import train_test_split\n",
    "from sklearn.linear_model import ElasticNet\n",
    "from sklearn.ensemble import GradientBoostingRegressor\n",
    "from urllib.parse import urlparse\n",
    "import mlflow\n",
    "import mlflow.sklearn\n",
    "\n",
    "import logging\n",
    "\n",
    "logging.basicConfig(level=logging.WARN)\n",
    "logger = logging.getLogger(__name__)\n",
    "mlflow.set_tracking_uri('http://localhost:5000')\n",
    "\n",
    "# get args\n",
    "max_depth = 3\n",
    "n_estimators = 50\n",
    "data_month = 5\n",
    "# Define data source\n",
    "TRAIN_FILE_PATH = \"data/train-data/training_data_month_{}.zip\".format(data_month)\n",
    "\n",
    "# Set global random state for stable training\n",
    "np.random.seed(40)\n",
    "rand = 40"
   ]
  },
  {
   "cell_type": "code",
   "execution_count": 12,
   "metadata": {},
   "outputs": [],
   "source": [
    "def get_training_data(url):\n",
    "    try:\n",
    "        train_data = pd.read_csv(url)\n",
    "    except Exception as e:\n",
    "        logger.exception(\n",
    "            \"Unable to read data from {}. Error: {}\".format(url,e)\n",
    "        )\n",
    "    return train_data \n",
    "\n",
    "def split_data(data, rand):\n",
    "    '''\n",
    "        Custom split to avoid data leakage\n",
    "        return: X_train, X_test, y_train, y_test\n",
    "    '''\n",
    "    data.drop(['store_id','product_id'],axis=1,inplace=True)\n",
    "\n",
    "    df_train_avl = data[data['label']>0]\n",
    "    df_train_notavl = data[data['label']==0]\n",
    "    y_aval = df_train_avl.pop('label')\n",
    "    X_aval = df_train_avl\n",
    "    y_notaval = df_train_notavl.pop('label')\n",
    "    X_notaval = df_train_notavl\n",
    "\n",
    "    X_train_avl, X_test_avl, y_train_avl, y_test_avl = train_test_split(X_aval, y_aval, test_size=0.3, random_state=rand)\n",
    "    X_train_notavl, X_test_notavl, y_train_notavl, y_test_notavl = train_test_split(X_notaval, y_notaval, test_size=0.3, random_state=rand)\n",
    "\n",
    "    X_train = pd.concat([X_train_avl,X_train_notavl])\n",
    "    y_train = pd.concat([y_train_avl,y_train_notavl])\n",
    "    X_test = pd.concat([X_test_avl,X_test_notavl])\n",
    "    y_test = pd.concat([y_test_avl,y_test_notavl])\n",
    "\n",
    "    # Free resources\n",
    "    del df_train_avl\n",
    "    del df_train_notavl\n",
    "    del y_aval\n",
    "    del X_aval\n",
    "    del y_notaval\n",
    "    del X_notaval\n",
    "\n",
    "    return X_train, X_test, y_train, y_test\n",
    "\n",
    "\n",
    "def eval_metrics(actual, pred):\n",
    "    rmse = np.sqrt(mean_squared_error(actual, pred))\n",
    "    mae = mean_absolute_error(actual, pred)\n",
    "    r2 = r2_score(actual, pred)\n",
    "    return rmse, mae, r2"
   ]
  },
  {
   "cell_type": "code",
   "execution_count": 13,
   "metadata": {},
   "outputs": [],
   "source": [
    "def train(max_depth=3, n_estimators=5, data_month=5):\n",
    "    warnings.filterwarnings(\"ignore\")\n",
    "\n",
    "    # Read the wine-quality csv file from the URL\n",
    "    data = get_training_data(url=TRAIN_FILE_PATH)\n",
    "\n",
    "    # Split the data into training and test sets. (0.75, 0.25) split.\n",
    "    train_x, test_x,train_y,test_y = split_data(data=data,rand=rand)\n",
    "\n",
    "    with mlflow.start_run():\n",
    "        lr = GradientBoostingRegressor(max_depth=max_depth, n_estimators=n_estimators, random_state=rand)\n",
    "        lr.fit(train_x, train_y)\n",
    "\n",
    "        predicted_qualities = lr.predict(test_x)\n",
    "\n",
    "        (rmse, mae, r2) = eval_metrics(test_y, predicted_qualities)\n",
    "\n",
    "        print(\"GradientBoostingRegressor model (max_depth=%f, n_estimators=%f):\" % (max_depth, n_estimators))\n",
    "        print(\"  RMSE: %s\" % rmse)\n",
    "        print(\"  MAE: %s\" % mae)\n",
    "        print(\"  R2: %s\" % r2)\n",
    "\n",
    "        mlflow.log_param(\"max_depth\", max_depth)\n",
    "        mlflow.log_param(\"n_estimators\", n_estimators)\n",
    "        mlflow.log_metric(\"rmse\", rmse)\n",
    "        mlflow.log_metric(\"r2\", r2)\n",
    "        mlflow.log_metric(\"mae\", mae)\n",
    "\n",
    "        tracking_url_type_store = urlparse(mlflow.get_tracking_uri()).scheme\n",
    "\n",
    "        # Model registry does not work with file store\n",
    "        if tracking_url_type_store != \"file\":\n",
    "\n",
    "            # Register the model\n",
    "            # There are other ways to use the Model Registry, which depends on the use case,\n",
    "            # please refer to the doc for more information:\n",
    "            # https://mlflow.org/docs/latest/model-registry.html#api-workflow\n",
    "            mlflow.sklearn.log_model(lr, \"model\", registered_model_name=\"GradientBoostingRegressor\")\n",
    "        else:\n",
    "            mlflow.sklearn.log_model(lr, \"model\")"
   ]
  },
  {
   "cell_type": "code",
   "execution_count": null,
   "metadata": {},
   "outputs": [],
   "source": [
    "train()"
   ]
  },
  {
   "cell_type": "code",
   "execution_count": 2,
   "metadata": {},
   "outputs": [
    {
     "data": {
      "text/plain": [
       "[<Experiment: artifact_location='file:///C:/Users/haunv/Documents/GitHub/pf-model/model/mlruns/0', experiment_id='0', lifecycle_stage='active', name='Default', tags={}>]"
      ]
     },
     "execution_count": 2,
     "metadata": {},
     "output_type": "execute_result"
    }
   ],
   "source": [
    "# TODO CUSTOM experiment id, name\n",
    "# Get the best experiment \n",
    "from  mlflow.tracking import MlflowClient\n",
    "client = MlflowClient()\n",
    "experiments = client.list_experiments() # returns a list of mlflow.entities.Experiment\n",
    "# check experiment\n",
    "print(experiments[0].artifact_location)\n",
    "print(experiments[0].name)\n",
    "for i in experiments:\n",
    "    exists=False\n",
    "    if i.name=='Default':\n",
    "        exists = True\n",
    "run = client.create_run(experiments[0].experiment_id) # returns mlflow.entities.Run\n",
    "client.log_param(run.info.run_id, \"hello\", \"world\")\n",
    "client.set_terminated(run.info.run_id)\n"
   ]
  },
  {
   "cell_type": "code",
   "execution_count": 23,
   "metadata": {},
   "outputs": [
    {
     "name": "stdout",
     "output_type": "stream",
     "text": [
      "file:///C:/Users/haunv/Documents/GitHub/pf-model/model/mlruns/0\n",
      "Default\n",
      "OK\n"
     ]
    }
   ],
   "source": [
    "print(experiments[0].artifact_location)\n",
    "print(experiments[0].name)\n",
    "for i in experiments:\n",
    "    exists=False\n",
    "    if i.name=='Default':\n",
    "        exists = True\n",
    "if exists: print('OK')"
   ]
  },
  {
   "cell_type": "markdown",
   "metadata": {},
   "source": [
    "Up best artifact to GCP (or S3...)"
   ]
  },
  {
   "cell_type": "code",
   "execution_count": null,
   "metadata": {},
   "outputs": [],
   "source": [
    "# get the best model run"
   ]
  },
  {
   "cell_type": "code",
   "execution_count": null,
   "metadata": {},
   "outputs": [],
   "source": [
    "# Up load them to GCP"
   ]
  },
  {
   "cell_type": "code",
   "execution_count": null,
   "metadata": {},
   "outputs": [],
   "source": []
  }
 ],
 "metadata": {
  "kernelspec": {
   "display_name": "Python 3.8.13 ('podfood')",
   "language": "python",
   "name": "python3"
  },
  "language_info": {
   "codemirror_mode": {
    "name": "ipython",
    "version": 3
   },
   "file_extension": ".py",
   "mimetype": "text/x-python",
   "name": "python",
   "nbconvert_exporter": "python",
   "pygments_lexer": "ipython3",
   "version": "3.8.13"
  },
  "orig_nbformat": 4,
  "vscode": {
   "interpreter": {
    "hash": "5186129c7650926da9bb9f9f7d914f510b36cc6114e777ebff15e12d867b8901"
   }
  }
 },
 "nbformat": 4,
 "nbformat_minor": 2
}
