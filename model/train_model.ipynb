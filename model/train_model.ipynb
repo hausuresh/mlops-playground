{
 "cells": [
  {
   "cell_type": "markdown",
   "metadata": {},
   "source": [
    "# Write something here!"
   ]
  },
  {
   "cell_type": "code",
   "execution_count": 47,
   "metadata": {},
   "outputs": [],
   "source": [
    "import os\n",
    "import warnings\n",
    "import sys\n",
    "from pathlib import Path\n",
    "\n",
    "import pandas as pd\n",
    "import numpy as np\n",
    "from sklearn.metrics import mean_squared_error, mean_absolute_error, r2_score\n",
    "from sklearn.model_selection import train_test_split\n",
    "from sklearn.linear_model import ElasticNet\n",
    "from urllib.parse import urlparse\n",
    "import mlflow\n",
    "import mlflow.sklearn\n",
    "\n",
    "import logging\n",
    "\n",
    "logging.basicConfig(level=logging.WARN)\n",
    "logger = logging.getLogger(__name__)\n",
    "MODEL_DIR = Path(os.getcwd())"
   ]
  },
  {
   "cell_type": "code",
   "execution_count": 54,
   "metadata": {},
   "outputs": [],
   "source": [
    "mlflow.set_tracking_uri((\"file://\"+os.path.abspath(os.path.join('', os.pardir,'mlruns'))).replace(\"\\\\\",\"/\"))\n",
    "#mlflow.set_tracking_uri(\"sqlite:///mlruns.db\")\n",
    "\n",
    "# get args\n",
    "alpha = 0.5\n",
    "l1_ratio =  0.1\n",
    "data_month =  5\n",
    "\n",
    "# Define training data source\n",
    "# fix window/linux sep\n",
    "TRAIN_FILE_PATH = os.path.join(MODEL_DIR,'data','train-data','training_data_month_{}.zip'.format(data_month))\n",
    "\n",
    "# Set global random state for stable training\n",
    "np.random.seed(40)\n",
    "rand = 40"
   ]
  },
  {
   "cell_type": "code",
   "execution_count": 59,
   "metadata": {},
   "outputs": [],
   "source": [
    "def get_training_data(url):\n",
    "    try:\n",
    "        train_data = pd.read_csv(url)\n",
    "    except Exception as e:\n",
    "        logger.exception(\n",
    "            \"Unable to read data from {}. Error: {}\".format(url,e)\n",
    "        )\n",
    "    return train_data \n",
    "\n",
    "def split_data(data, rand):\n",
    "    '''\n",
    "    Custom split to avoid data leakage\n",
    "    Returns\n",
    "    -------        \n",
    "        Pandas dataframes: X_train, X_test, y_train, y_test\n",
    "    '''\n",
    "    \n",
    "    df_train_avl = data[data['label']>0]\n",
    "    df_train_notavl = data[data['label']==0]\n",
    "    y_aval = df_train_avl.pop('label')\n",
    "    X_aval = df_train_avl\n",
    "    y_notaval = df_train_notavl.pop('label')\n",
    "    X_notaval = df_train_notavl\n",
    "\n",
    "    X_train_avl, X_test_avl, y_train_avl, y_test_avl = train_test_split(X_aval, y_aval, test_size=0.3, random_state=rand)\n",
    "    X_train_notavl, X_test_notavl, y_train_notavl, y_test_notavl = train_test_split(X_notaval, y_notaval, test_size=0.3, random_state=rand)\n",
    "\n",
    "    X_train = pd.concat([X_train_avl,X_train_notavl])\n",
    "    y_train = pd.concat([y_train_avl,y_train_notavl])\n",
    "    X_test = pd.concat([X_test_avl,X_test_notavl])\n",
    "    y_test = pd.concat([y_test_avl,y_test_notavl])\n",
    "\n",
    "    # Free resources\n",
    "    del df_train_avl\n",
    "    del df_train_notavl\n",
    "    del y_aval\n",
    "    del X_aval\n",
    "    del y_notaval\n",
    "    del X_notaval\n",
    "\n",
    "    return X_train, X_test, y_train, y_test\n",
    "\n",
    "\n",
    "def eval_metrics(actual, pred):\n",
    "    rmse = np.sqrt(mean_squared_error(actual, pred))\n",
    "    mae = mean_absolute_error(actual, pred)\n",
    "    r2 = r2_score(actual, pred)\n",
    "    return rmse, mae, r2"
   ]
  },
  {
   "cell_type": "code",
   "execution_count": 60,
   "metadata": {},
   "outputs": [],
   "source": [
    "def train(max_depth=3, n_estimators=5, data_month=5):\n",
    "    warnings.filterwarnings(\"ignore\")\n",
    "    data = get_training_data(url=TRAIN_FILE_PATH)\n",
    "    \n",
    "    # Split data\n",
    "    train_x, test_x,train_y,test_y = split_data(data=data,rand=rand)\n",
    "    \n",
    "    with mlflow.start_run(run_name='toy-model-1') as run:\n",
    "        lr = ElasticNet(alpha=alpha, l1_ratio=l1_ratio, random_state=rand)\n",
    "        lr.fit(train_x, train_y)\n",
    "\n",
    "        predicted_qualities = lr.predict(test_x)\n",
    "\n",
    "        (rmse, mae, r2) = eval_metrics(test_y, predicted_qualities)\n",
    "\n",
    "        print(\"Toy model (alpha=%f, l1_ratio=%f):\" % (alpha, l1_ratio))\n",
    "        print(\"  RMSE: %s\" % rmse)\n",
    "        print(\"  MAE: %s\" % mae)\n",
    "        print(\"  R2: %s\" % r2)\n",
    "\n",
    "        mlflow.log_param(\"alpha\", alpha)\n",
    "        mlflow.log_param(\"l1_ratio\", l1_ratio)\n",
    "        mlflow.log_param(\"data_month\", data_month)\n",
    "\n",
    "        mlflow.log_metric(\"rmse\", rmse)\n",
    "        mlflow.log_metric(\"r2\", r2)\n",
    "        mlflow.log_metric(\"mae\", mae)\n",
    "\n",
    "        tracking_url_type_store = urlparse(mlflow.get_tracking_uri()).scheme\n",
    "        \n",
    "        # check info\n",
    "        print(\"Run id: {}\".format(run.info.run_id))\n",
    "\n",
    "        # Model registry does not work with file store\n",
    "        if tracking_url_type_store != \"file\":\n",
    "            mlflow.sklearn.log_model(lr, \"model\", registered_model_name=\"ElasticNet\")\n",
    "        else:\n",
    "            mlflow.sklearn.log_model(lr, \"model\")"
   ]
  },
  {
   "cell_type": "code",
   "execution_count": 61,
   "metadata": {},
   "outputs": [
    {
     "name": "stdout",
     "output_type": "stream",
     "text": [
      "Toy model (alpha=0.500000, l1_ratio=0.100000):\n",
      "  RMSE: 1.8034236071919758\n",
      "  MAE: 0.4297560701246571\n",
      "  R2: 0.6226092545198858\n",
      "Run id: d15c0c99299c4846956d2e2c1dc82f46\n"
     ]
    }
   ],
   "source": [
    "train()"
   ]
  },
  {
   "cell_type": "markdown",
   "metadata": {},
   "source": [
    "Up best artifact to persistent data store ( NFS, GCP, S3...etc)\n",
    "\n",
    "if using Google Cloud Storage, gsutil command or gcloud storage python sdk is required"
   ]
  },
  {
   "cell_type": "code",
   "execution_count": null,
   "metadata": {},
   "outputs": [],
   "source": [
    "# get the best model run\n",
    "experiment_name = 'Default'\n",
    "best_run_df = mlflow.search_runs(order_by=['metrics.RMSE_CV ASC'], max_results=1)\n",
    "\n",
    "if len(best_run_df.index) == 0:\n",
    "    raise Exception(f\"Found no runs for experiment '{experiment_name}'\")\n",
    "\n",
    "best_run = mlflow.get_run(best_run_df.at[0, 'run_id'])\n",
    "best_model_uri = f\"{best_run.info.artifact_uri}/model\"\n",
    "best_model_url = best_model_uri.replace('file:///','')\n",
    "print(best_model_url)"
   ]
  },
  {
   "cell_type": "code",
   "execution_count": null,
   "metadata": {},
   "outputs": [],
   "source": [
    "# Up load them to GCP\n",
    "os.system(\"gsutil cp -r {} {}\".format(best_model_url,'gs://pod-seldon-model/pod-toy-model/model'))"
   ]
  },
  {
   "cell_type": "code",
   "execution_count": 90,
   "metadata": {},
   "outputs": [
    {
     "data": {
      "text/plain": [
       "0"
      ]
     },
     "execution_count": 90,
     "metadata": {},
     "output_type": "execute_result"
    }
   ],
   "source": []
  },
  {
   "cell_type": "code",
   "execution_count": null,
   "metadata": {},
   "outputs": [],
   "source": []
  }
 ],
 "metadata": {
  "kernelspec": {
   "display_name": "Python 3.8.13 ('podfood')",
   "language": "python",
   "name": "python3"
  },
  "language_info": {
   "codemirror_mode": {
    "name": "ipython",
    "version": 3
   },
   "file_extension": ".py",
   "mimetype": "text/x-python",
   "name": "python",
   "nbconvert_exporter": "python",
   "pygments_lexer": "ipython3",
   "version": "3.8.13"
  },
  "orig_nbformat": 4,
  "vscode": {
   "interpreter": {
    "hash": "5186129c7650926da9bb9f9f7d914f510b36cc6114e777ebff15e12d867b8901"
   }
  }
 },
 "nbformat": 4,
 "nbformat_minor": 2
}
